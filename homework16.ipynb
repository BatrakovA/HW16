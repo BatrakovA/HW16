{
 "cells": [
  {
   "cell_type": "markdown",
   "metadata": {},
   "source": [
    "**Задание**\n",
    "\n",
    "Смоделировать игру против лотерейного автомата типа “777”. Игрок платит 1 руб., после чего выпадает случайное целое число, равномерно распределенное от 0 до 999. При некоторых значениях числа игрок получает выигрыш:\n",
    "\n",
    "777: 200 руб. 999: 100 руб. 555: 50 руб. 333: 15 руб. 111: 10 руб. _77: 5 руб. __7: 3 руб. _00: 2 руб. __0: 1 руб.\n",
    "\n",
    "_-любая цифра\n",
    "\n",
    "Выгодна ли игра игроку?\n",
    "\n",
    "Сколько в среднем приобретает или теряет игрок за одну игру?"
   ]
  },
  {
   "cell_type": "code",
   "execution_count": 1,
   "metadata": {},
   "outputs": [],
   "source": [
    "import numpy as np"
   ]
  },
  {
   "cell_type": "code",
   "execution_count": 2,
   "metadata": {},
   "outputs": [
    {
     "name": "stdout",
     "output_type": "stream",
     "text": [
      "7817868\n"
     ]
    }
   ],
   "source": [
    "trials = 10000000    # Количество попыток (рублей в кошельке)\n",
    "gain = 0    # Выигрыш\n",
    "\n",
    "for i in range(trials + 1):\n",
    "    random_number = np.random.randint(0, 1000) \n",
    "    if random_number == 777:\n",
    "        gain = gain + 200\n",
    "    elif random_number == 999:\n",
    "        gain = gain + 100    \n",
    "    elif random_number == 555:\n",
    "        gain = gain + 50    \n",
    "    elif random_number == 999:\n",
    "        gain = gain + 15    \n",
    "    elif random_number == 111:\n",
    "        gain = gain + 10\n",
    "    elif random_number%100 == 77:\n",
    "        gain = gain + 5\n",
    "    elif random_number%10 == 7:\n",
    "        gain = gain + 3\n",
    "    elif str(random_number)[1:] == '00':\n",
    "        gain = gain + 2\n",
    "    elif str(random_number)[1:] == '0' or str(random_number)[2:] == '0':\n",
    "        gain = gain + 1        \n",
    "       \n",
    "print(gain)            "
   ]
  },
  {
   "cell_type": "markdown",
   "metadata": {},
   "source": [
    "Игра не выгодна игроку.\n",
    "\n",
    "В среднем за игру игрок проигрывает примерно 22 коп ((10000000-7817868)/10000000)"
   ]
  },
  {
   "cell_type": "code",
   "execution_count": 3,
   "metadata": {},
   "outputs": [
    {
     "name": "stdout",
     "output_type": "stream",
     "text": [
      "4679034\n"
     ]
    }
   ],
   "source": [
    "#сколько раз можно сыграть, если проигрывать выигрыш\n",
    "\n",
    "trials = 1000000    # Количество попыток (рублей в кошельке)\n",
    "gain = 0    # Выигрыш\n",
    "i = 1\n",
    "while trials > 0:\n",
    "    random_number = np.random.randint(0, 1000) \n",
    "    if random_number == 777:\n",
    "        trials = trials + 200\n",
    "    elif random_number == 999:\n",
    "        trials = trials + 100    \n",
    "    elif random_number == 555:\n",
    "        trials = trials + 50    \n",
    "    elif random_number == 999:\n",
    "        trials = trials + 15    \n",
    "    elif random_number == 111:\n",
    "        trials = trials + 10\n",
    "    elif random_number%100 == 77:\n",
    "        trials = trials + 5\n",
    "    elif random_number%10 == 7:\n",
    "        trials = trials + 3\n",
    "    elif str(random_number)[1:] == '00':\n",
    "        trials = trials + 2\n",
    "    elif str(random_number)[1:] == '0' or str(random_number)[2:] == '0':\n",
    "        trials = trials + 1        \n",
    "    i += 1   \n",
    "    trials += -1\n",
    "print(i)"
   ]
  },
  {
   "cell_type": "code",
   "execution_count": 8,
   "metadata": {},
   "outputs": [
    {
     "data": {
      "text/plain": [
       "1021026.9820488"
      ]
     },
     "execution_count": 8,
     "metadata": {},
     "output_type": "execute_result"
    }
   ],
   "source": [
    "4679034 * (10000000-7817868)/10000000 #проверка, действительно ли, теряя в среднем по 22 коп, за это кол-во попыток он проиграет 1000000"
   ]
  },
  {
   "cell_type": "code",
   "execution_count": 12,
   "metadata": {},
   "outputs": [],
   "source": [
    "#проверка успешна"
   ]
  }
 ],
 "metadata": {
  "kernelspec": {
   "display_name": "Python 3",
   "language": "python",
   "name": "python3"
  },
  "language_info": {
   "codemirror_mode": {
    "name": "ipython",
    "version": 3
   },
   "file_extension": ".py",
   "mimetype": "text/x-python",
   "name": "python",
   "nbconvert_exporter": "python",
   "pygments_lexer": "ipython3",
   "version": "3.8.5"
  }
 },
 "nbformat": 4,
 "nbformat_minor": 4
}
